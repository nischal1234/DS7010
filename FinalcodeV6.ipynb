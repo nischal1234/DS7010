{
  "nbformat": 4,
  "nbformat_minor": 0,
  "metadata": {
    "colab": {
      "provenance": [],
      "toc_visible": true,
      "authorship_tag": "ABX9TyMERZvvNYTFUZZrQoRYWyGW",
      "include_colab_link": true
    },
    "kernelspec": {
      "name": "python3",
      "display_name": "Python 3"
    },
    "language_info": {
      "name": "python"
    }
  },
  "cells": [
    {
      "cell_type": "markdown",
      "metadata": {
        "id": "view-in-github",
        "colab_type": "text"
      },
      "source": [
        "<a href=\"https://colab.research.google.com/github/nischal1234/DS7010/blob/colab/FinalcodeV6.ipynb\" target=\"_parent\"><img src=\"https://colab.research.google.com/assets/colab-badge.svg\" alt=\"Open In Colab\"/></a>"
      ]
    },
    {
      "cell_type": "markdown",
      "source": [
        "# Google drive link"
      ],
      "metadata": {
        "id": "39-7MfoLlPlL"
      }
    },
    {
      "cell_type": "code",
      "execution_count": null,
      "metadata": {
        "id": "KsFPX3Eujf5W"
      },
      "outputs": [],
      "source": [
        "from google.colab import drive\n",
        "drive.mount('/content/drive')"
      ]
    },
    {
      "cell_type": "markdown",
      "source": [
        "# **Library install**"
      ],
      "metadata": {
        "id": "e5ALx_PWldGu"
      }
    },
    {
      "cell_type": "code",
      "source": [
        "!pip install soundfile"
      ],
      "metadata": {
        "id": "ewryyEkFljxJ"
      },
      "execution_count": null,
      "outputs": []
    },
    {
      "cell_type": "markdown",
      "source": [
        "# **Import library**"
      ],
      "metadata": {
        "id": "_PI2ryrzlV9U"
      }
    },
    {
      "cell_type": "code",
      "source": [
        "import sys\n",
        "print(sys.version)\n",
        "import pandas as pd\n",
        "import numpy as np\n",
        "import librosa\n",
        "import librosa.display\n",
        "import soundfile\n",
        "import matplotlib.pyplot as plt"
      ],
      "metadata": {
        "id": "B4XbVYuhjiGg"
      },
      "execution_count": null,
      "outputs": []
    },
    {
      "cell_type": "markdown",
      "source": [
        "# Metafile read"
      ],
      "metadata": {
        "id": "3G5EyWMWlpMM"
      }
    },
    {
      "cell_type": "code",
      "source": [
        "data=pd.read_csv('/content/drive/MyDrive/DS7010/iemocap_final.csv')\n",
        "data.head()\n"
      ],
      "metadata": {
        "id": "3OP_xHudjnWp"
      },
      "execution_count": null,
      "outputs": []
    },
    {
      "cell_type": "markdown",
      "source": [
        "# **Path_finding_for_audio**"
      ],
      "metadata": {
        "id": "teMfPZaGl1oV"
      }
    },
    {
      "cell_type": "code",
      "source": [
        "def path_finding_for_audio(file_name,session_number):\n",
        "    #folder_name=file_name\n",
        "    wav_file=file_name + \".wav\"\n",
        "    number=session_number\n",
        "    #as per colab\n",
        "    #sampele location is /content/drive/MyDrive/DS7010/IEMOCAP_full_release\n",
        "    dataset_directory = '/content/drive/MyDrive/DS7010/IEMOCAP_full_release'\n",
        "    sessions_to_play = ['Session1','Session2','Session3','Session4','Session5']\n",
        "    folder_name=extract_folder_name(file_name)\n",
        "    audio_folder = os.path.join(dataset_directory,sessions_to_play[session_number-1],'sentences','wav',folder_name,wav_file)\n",
        "    #check_exist(audio_folder)\n",
        "    return audio_folder\n",
        "\n",
        "def extract_folder_name(file_name):\n",
        "    # Find the index of the underscore before the last character\n",
        "    last_underscore_index = file_name.rfind('_')\n",
        "\n",
        "    # Extract the substring from the beginning of the string up to the last underscore\n",
        "    folder_name = file_name[:last_underscore_index]\n",
        "\n",
        "    return folder_name\n",
        "\n",
        "def check_exist(audio_folder):\n",
        "    if os.path.exists(audio_folder):\n",
        "        print('file exist')\n",
        "    else:\n",
        "        print('not exist')\n",
        "\n",
        "path_finding_for_audio(data.wav_file[4],1)"
      ],
      "metadata": {
        "id": "s1IW6VVTjyQd"
      },
      "execution_count": null,
      "outputs": []
    },
    {
      "cell_type": "markdown",
      "source": [
        "# **Technique One (MFCCs)**"
      ],
      "metadata": {
        "id": "FXGrRYWCkmdz"
      }
    },
    {
      "cell_type": "code",
      "source": [
        "import numpy as np\n",
        "import librosa\n",
        "from tqdm import tqdm\n",
        "\n",
        "# Example feature extraction function\n",
        "def extract_features(audio_signal, sampling_rate):\n",
        "      # Normalizing time domain signal:\n",
        "      audio_signal = audio_signal / np.max(np.abs(audio_signal))\n",
        "      # MFCC configuration:\n",
        "      N_MFCC = 20\n",
        "      N_MELS = 60\n",
        "      WINDOW_LENGTH = int(0.025 * sampling_rate)  # To obtain 25 ms window\n",
        "      HOP_LENGTH = int(0.010 * sampling_rate)  # 10 ms shift between consecutive windows\n",
        "\n",
        "      # Extracting MFCCs:\n",
        "      mfccs = librosa.feature.mfcc(y=audio_signal, sr=sampling_rate, n_mfcc=N_MFCC, n_mels=N_MELS, n_fft=WINDOW_LENGTH, hop_length=HOP_LENGTH).T\n",
        "\n",
        "      # Feature normalization:\n",
        "      mfccs -= np.mean(mfccs, axis=0)\n",
        "      mfccs /= np.std(mfccs, ddof=0, axis=0)\n",
        "      return mfccs\n",
        "\n",
        "# Assuming you have a function `path_finding_for_audio()` that returns the file path\n",
        "def path_finding_for_audio_local(wav_file, session):\n",
        "    # Your code to find the file path\n",
        "    file_path=path_finding_for_audio(wav_file,session)\n",
        "    return file_path\n",
        "\n",
        "# Initialize lists to store extracted features\n",
        "all_chroma_stft = []\n",
        "all_rmse = []\n",
        "all_spec_cent = []\n",
        "all_spec_bw = []\n",
        "all_rolloff = []\n",
        "all_zcr = []\n",
        "all_mfcc = []\n",
        "metadata=data\n",
        "# Iterate over each row in the metadata and extract features\n",
        "for index_num, row in tqdm(metadata.iterrows(), total=len(metadata)):\n",
        "    # Find the file path for the audio\n",
        "    file_path = path_finding_for_audio_local(row['wav_file'], row['session'])\n",
        "    # Load audio signal and sampling rate\n",
        "    audio_signal, sampling_rate = soundfile.read(file_path)\n",
        "    # Extract features\n",
        "    mfcc = extract_features(audio_signal, sampling_rate)\n",
        "    # Pad or truncate feature vectors to match the maximum length\n",
        "    #max_len = max(len(chroma_stft[0]), 1, len(spec_cent), len(spec_bw), len(rolloff), len(zcr), mfcc.shape[1])\n",
        "\n",
        "    all_mfcc.append(mfcc)\n",
        "\n",
        "\n",
        "    #all_mfcc = np.array(all_mfcc)\n",
        "\n",
        "# Now, you have arrays with consistent feature vector lengths that you can use for further processing.\n"
      ],
      "metadata": {
        "id": "85gjWyDYjt3f"
      },
      "execution_count": null,
      "outputs": []
    },
    {
      "cell_type": "markdown",
      "source": [
        "# **Technique Two**\n",
        "*this runs perfectly *"
      ],
      "metadata": {
        "id": "MOCg6ybckWZD"
      }
    },
    {
      "cell_type": "code",
      "source": [
        "from tqdm import tqdm\n",
        "newdata=[]\n",
        "def path_finding_for_audio_local(wav_file, session):\n",
        "    # Your code to find the file path\n",
        "    file_path=path_finding_for_audio(wav_file,session)\n",
        "    return file_path\n",
        "\n",
        "extracted_features=[]\n",
        "metadata=data\n",
        "# Iterate over each row in the metadata and extract features\n",
        "for index_num, row in tqdm(metadata.iterrows(), total=len(metadata)):\n",
        "    # Find the file path for the audio\n",
        "    file_path = path_finding_for_audio_local(row['wav_file'], row['session'])\n",
        "    # Load audio signal and sampling rate\n",
        "    y, sr = soundfile.read(file_path)\n",
        "    #print(sr)\n",
        "\n",
        "    # Extract features\n",
        "    newdata.append(y)"
      ],
      "metadata": {
        "id": "R3ZFaK1Vj8pZ"
      },
      "execution_count": 1,
      "outputs": []
    },
    {
      "cell_type": "code",
      "source": [
        "from tqdm import tqdm\n",
        "import librosa\n",
        "#from scipy.signal import mfcc\n",
        "Xmfcc = []\n",
        "\n",
        "for i in tqdm(range(len(newdata))):\n",
        "    mfcc_features = librosa.feature.mfcc(y=newdata[i], sr=16000)\n",
        "    #mfcc_features = mfcc(data[i], 16000, nfft=512)\n",
        "    mfcc_resized = np.resize(mfcc_features, (size, 1472)) # need to change the value of 1472\n",
        "    Xmfcc.append(mfcc_resized)\n",
        "\n",
        "Xmfccs = np.array(Xmfcc)"
      ],
      "metadata": {
        "id": "YAcPAtlhj9CT"
      },
      "execution_count": null,
      "outputs": []
    }
  ]
}