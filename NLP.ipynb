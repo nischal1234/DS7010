{
 "cells": [
  {
   "cell_type": "code",
   "execution_count": 1,
   "id": "01e1754f",
   "metadata": {},
   "outputs": [
    {
     "name": "stdout",
     "output_type": "stream",
     "text": [
      "D:\\DS7010\\IEMOCAP_full_release\\IEMOCAP_full_release\n"
     ]
    }
   ],
   "source": [
    "cd D:/DS7010/IEMOCAP_full_release/IEMOCAP_full_release"
   ]
  },
  {
   "cell_type": "code",
   "execution_count": 5,
   "id": "7ec6053b",
   "metadata": {},
   "outputs": [],
   "source": [
    "import pandas as pd\n",
    "from nltk.tokenize import word_tokenize"
   ]
  },
  {
   "cell_type": "code",
   "execution_count": 7,
   "id": "2b9952b4",
   "metadata": {},
   "outputs": [
    {
     "name": "stderr",
     "output_type": "stream",
     "text": [
      "[nltk_data] Downloading package punkt to\n",
      "[nltk_data]     C:\\Users\\nishc\\AppData\\Roaming\\nltk_data...\n",
      "[nltk_data]   Unzipping tokenizers\\punkt.zip.\n"
     ]
    },
    {
     "data": {
      "text/plain": [
       "True"
      ]
     },
     "execution_count": 7,
     "metadata": {},
     "output_type": "execute_result"
    }
   ],
   "source": [
    "import nltk\n",
    "nltk.download('punkt')"
   ]
  },
  {
   "cell_type": "code",
   "execution_count": 3,
   "id": "d05fb192",
   "metadata": {},
   "outputs": [
    {
     "data": {
      "text/html": [
       "<div>\n",
       "<style scoped>\n",
       "    .dataframe tbody tr th:only-of-type {\n",
       "        vertical-align: middle;\n",
       "    }\n",
       "\n",
       "    .dataframe tbody tr th {\n",
       "        vertical-align: top;\n",
       "    }\n",
       "\n",
       "    .dataframe thead th {\n",
       "        text-align: right;\n",
       "    }\n",
       "</style>\n",
       "<table border=\"1\" class=\"dataframe\">\n",
       "  <thead>\n",
       "    <tr style=\"text-align: right;\">\n",
       "      <th></th>\n",
       "      <th>_id</th>\n",
       "      <th>activation</th>\n",
       "      <th>valence</th>\n",
       "      <th>dominance</th>\n",
       "      <th>emotion</th>\n",
       "      <th>start_time</th>\n",
       "      <th>end_time</th>\n",
       "      <th>wav_file</th>\n",
       "      <th>session</th>\n",
       "      <th>sentences</th>\n",
       "    </tr>\n",
       "  </thead>\n",
       "  <tbody>\n",
       "    <tr>\n",
       "      <th>0</th>\n",
       "      <td>625699ea1da7a5c1eaef6e63</td>\n",
       "      <td>2.5</td>\n",
       "      <td>2.5</td>\n",
       "      <td>2.5</td>\n",
       "      <td>neu</td>\n",
       "      <td>6.2901</td>\n",
       "      <td>8.2357</td>\n",
       "      <td>Ses01F_impro01_F000</td>\n",
       "      <td>1</td>\n",
       "      <td>Excuse me.</td>\n",
       "    </tr>\n",
       "    <tr>\n",
       "      <th>1</th>\n",
       "      <td>625699ea1da7a5c1eaef6e65</td>\n",
       "      <td>2.5</td>\n",
       "      <td>2.5</td>\n",
       "      <td>2.5</td>\n",
       "      <td>neu</td>\n",
       "      <td>10.0100</td>\n",
       "      <td>11.3925</td>\n",
       "      <td>Ses01F_impro01_F001</td>\n",
       "      <td>1</td>\n",
       "      <td>Yeah.</td>\n",
       "    </tr>\n",
       "    <tr>\n",
       "      <th>2</th>\n",
       "      <td>625699ea1da7a5c1eaef6e67</td>\n",
       "      <td>2.5</td>\n",
       "      <td>2.5</td>\n",
       "      <td>2.5</td>\n",
       "      <td>neu</td>\n",
       "      <td>14.8872</td>\n",
       "      <td>18.0175</td>\n",
       "      <td>Ses01F_impro01_F002</td>\n",
       "      <td>1</td>\n",
       "      <td>Is there a problem?</td>\n",
       "    </tr>\n",
       "    <tr>\n",
       "      <th>3</th>\n",
       "      <td>625699ea1da7a5c1eaef6e69</td>\n",
       "      <td>3.0</td>\n",
       "      <td>2.5</td>\n",
       "      <td>3.0</td>\n",
       "      <td>neu</td>\n",
       "      <td>19.2900</td>\n",
       "      <td>20.7875</td>\n",
       "      <td>Ses01F_impro01_F003</td>\n",
       "      <td>1</td>\n",
       "      <td>You did.</td>\n",
       "    </tr>\n",
       "    <tr>\n",
       "      <th>4</th>\n",
       "      <td>625699ea1da7a5c1eaef6e6a</td>\n",
       "      <td>3.0</td>\n",
       "      <td>2.5</td>\n",
       "      <td>2.5</td>\n",
       "      <td>neu</td>\n",
       "      <td>21.3257</td>\n",
       "      <td>24.7400</td>\n",
       "      <td>Ses01F_impro01_F004</td>\n",
       "      <td>1</td>\n",
       "      <td>You were standing at the beginning and you di...</td>\n",
       "    </tr>\n",
       "  </tbody>\n",
       "</table>\n",
       "</div>"
      ],
      "text/plain": [
       "                        _id  activation  valence  dominance emotion  \\\n",
       "0  625699ea1da7a5c1eaef6e63         2.5      2.5        2.5     neu   \n",
       "1  625699ea1da7a5c1eaef6e65         2.5      2.5        2.5     neu   \n",
       "2  625699ea1da7a5c1eaef6e67         2.5      2.5        2.5     neu   \n",
       "3  625699ea1da7a5c1eaef6e69         3.0      2.5        3.0     neu   \n",
       "4  625699ea1da7a5c1eaef6e6a         3.0      2.5        2.5     neu   \n",
       "\n",
       "   start_time  end_time             wav_file  session  \\\n",
       "0      6.2901    8.2357  Ses01F_impro01_F000        1   \n",
       "1     10.0100   11.3925  Ses01F_impro01_F001        1   \n",
       "2     14.8872   18.0175  Ses01F_impro01_F002        1   \n",
       "3     19.2900   20.7875  Ses01F_impro01_F003        1   \n",
       "4     21.3257   24.7400  Ses01F_impro01_F004        1   \n",
       "\n",
       "                                           sentences  \n",
       "0                                         Excuse me.  \n",
       "1                                              Yeah.  \n",
       "2                                Is there a problem?  \n",
       "3                                           You did.  \n",
       "4   You were standing at the beginning and you di...  "
      ]
     },
     "execution_count": 3,
     "metadata": {},
     "output_type": "execute_result"
    }
   ],
   "source": [
    "metadata=pd.read_csv('iemocap_final.csv')\n",
    "metadata.head()"
   ]
  },
  {
   "cell_type": "code",
   "execution_count": 17,
   "id": "290e273a",
   "metadata": {},
   "outputs": [
    {
     "data": {
      "text/plain": [
       "1                                                    Yeah.\n",
       "2                                      Is there a problem?\n",
       "3                                                 You did.\n",
       "4         You were standing at the beginning and you di...\n",
       "5              Well what's the problem?  Let me change it.\n",
       "                               ...                        \n",
       "10034     You are a vile tempered, wicked living, evil ...\n",
       "10035                      Oh, you're not going like this.\n",
       "10036                            [GARBAGE] No, you're not.\n",
       "10037     oh! Marry you again? I wouldn't marry you aga...\n",
       "10038     You're a wicked little vampire.  And I pray t...\n",
       "Name: sentences, Length: 10038, dtype: object"
      ]
     },
     "execution_count": 17,
     "metadata": {},
     "output_type": "execute_result"
    }
   ],
   "source": [
    "metadata.sentences[1:]"
   ]
  },
  {
   "cell_type": "code",
   "execution_count": 18,
   "id": "47398f40",
   "metadata": {},
   "outputs": [
    {
     "name": "stdout",
     "output_type": "stream",
     "text": [
      "['[', 'GARBAGE', ']', 'No', ',', 'you', \"'re\", 'not', '.']\n"
     ]
    }
   ],
   "source": [
    "tokens = word_tokenize(metadata.sentences[10036])\n",
    "print(tokens)\n"
   ]
  }
 ],
 "metadata": {
  "kernelspec": {
   "display_name": "Python 3 (ipykernel)",
   "language": "python",
   "name": "python3"
  },
  "language_info": {
   "codemirror_mode": {
    "name": "ipython",
    "version": 3
   },
   "file_extension": ".py",
   "mimetype": "text/x-python",
   "name": "python",
   "nbconvert_exporter": "python",
   "pygments_lexer": "ipython3",
   "version": "3.11.4"
  }
 },
 "nbformat": 4,
 "nbformat_minor": 5
}
